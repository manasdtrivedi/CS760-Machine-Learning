{
 "cells": [
  {
   "cell_type": "code",
   "execution_count": 399,
   "id": "f1dea8b9-46b8-4da4-8725-c8350255f6c8",
   "metadata": {},
   "outputs": [],
   "source": [
    "import numpy as np\n",
    "import pandas as pd\n",
    "import math\n",
    "import random\n",
    "import matplotlib.pyplot as plt\n",
    "import os"
   ]
  },
  {
   "cell_type": "code",
   "execution_count": 400,
   "id": "35314580-5a1c-4985-8a30-a49a0da00617",
   "metadata": {},
   "outputs": [],
   "source": [
    "# !tar -xvf languageID.tar"
   ]
  },
  {
   "cell_type": "code",
   "execution_count": 401,
   "id": "1fdca8d2-7546-4aeb-beea-92894c6a4a50",
   "metadata": {},
   "outputs": [
    {
     "name": "stdout",
     "output_type": "stream",
     "text": [
      "Prior probabilities:\n",
      "p(y=e) = 0.3333333333333333\n",
      "p(y=j) = 0.3333333333333333\n",
      "p(y=s) = 0.3333333333333333\n"
     ]
    }
   ],
   "source": [
    "# Question 3 Part 1\n",
    "\n",
    "# Calculate the prior probabilities for each language\n",
    "\n",
    "num_e = 0\n",
    "num_j = 0\n",
    "num_s = 0\n",
    "list_of_document_names = os.listdir(\"languageID\")\n",
    "list_of_training_document_names = [document_name for document_name in list_of_document_names if len(document_name) == 6]\n",
    "for training_document_name in list_of_training_document_names:\n",
    "    if training_document_name.startswith('e'):\n",
    "        num_e += 1\n",
    "    elif training_document_name.startswith('j'):\n",
    "        num_j += 1\n",
    "    elif training_document_name.startswith('s'):\n",
    "        num_s += 1\n",
    "\n",
    "total = num_e + num_j + num_s\n",
    "prob_e = (num_e + 1 / 2) / (total + 3 / 2)\n",
    "prob_j = (num_j + 1 / 2) / (total + 3 / 2)\n",
    "prob_s = (num_s + 1 / 2) / (total + 3 / 2)\n",
    "log_prob_e = math.log(prob_e)\n",
    "log_prob_j = math.log(prob_j)\n",
    "log_prob_s = math.log(prob_s)\n",
    "print(f\"Prior probabilities:\\np(y=e) = {prob_e}\\np(y=j) = {prob_j}\\np(y=s) = {prob_s}\")"
   ]
  },
  {
   "cell_type": "code",
   "execution_count": 402,
   "id": "0be9be7c-977a-4ca4-9c58-c0d264b4e828",
   "metadata": {},
   "outputs": [],
   "source": [
    "def get_char_counts(document_name):\n",
    "    char_counts = np.zeros(27, dtype = int)\n",
    "    with open(os.path.join(\"languageID\", document_name), 'r') as document:\n",
    "        document_text = document.read()\n",
    "        for character in document_text:\n",
    "            if character.isalpha():\n",
    "                character = character.lower()\n",
    "                char_counts[ord(character) - ord('a')] += 1\n",
    "            elif character.isspace():\n",
    "                char_counts[26] += 1\n",
    "    return char_counts"
   ]
  },
  {
   "cell_type": "code",
   "execution_count": 403,
   "id": "4f2ef8fd-9410-419e-be5e-ddd68d0310e1",
   "metadata": {},
   "outputs": [],
   "source": [
    "# Auxiliary method to get character counts for a language\n",
    "\n",
    "def get_language_char_counts(list_of_training_document_names, language_initial):\n",
    "    language_char_counts = np.zeros(27, dtype = int)\n",
    "    for training_document_name in list_of_training_document_names:\n",
    "        if training_document_name.startswith(language_initial):\n",
    "            training_document_char_counts = get_char_counts(training_document_name)\n",
    "            language_char_counts = np.add(language_char_counts, training_document_char_counts)\n",
    "    return language_char_counts"
   ]
  },
  {
   "cell_type": "code",
   "execution_count": 404,
   "id": "ee6a3838-8e52-42a9-8d0a-7bd24296c084",
   "metadata": {},
   "outputs": [
    {
     "name": "stdout",
     "output_type": "stream",
     "text": [
      "Class conditional probability for English:\n",
      "[0.0593063  0.01097541 0.02120176 0.02165771 0.10385931 0.01866146\n",
      " 0.01722846 0.04653965 0.05461651 0.00140042 0.00368018 0.02856212\n",
      " 0.02022472 0.05709168 0.06354014 0.01651197 0.00055366 0.05305325\n",
      " 0.06523368 0.07897737 0.02628236 0.0091516  0.01527439 0.00113988\n",
      " 0.01364599 0.00061879 0.19101124]\n",
      "\n"
     ]
    }
   ],
   "source": [
    "# Question 3 Part 2\n",
    "\n",
    "e_char_counts = get_language_char_counts(list_of_training_document_names, 'e')\n",
    "j_char_counts = get_language_char_counts(list_of_training_document_names, 'j')\n",
    "s_char_counts = get_language_char_counts(list_of_training_document_names, 's')\n",
    "\n",
    "e_char_probs = (e_char_counts + 1 / 2) / (np.sum(e_char_counts) + e_char_counts.size * 1 / 2)\n",
    "j_char_probs = (j_char_counts + 1 / 2) / (np.sum(j_char_counts) + j_char_counts.size * 1 / 2)\n",
    "s_char_probs = (s_char_counts + 1 / 2) / (np.sum(s_char_counts) + s_char_counts.size * 1 / 2)\n",
    "\n",
    "e_char_log_probs = np.log(e_char_counts + 1 / 2) - np.log(np.sum(e_char_counts) + e_char_counts.size * 1 / 2)\n",
    "j_char_log_probs = np.log(j_char_counts + 1 / 2) - np.log(np.sum(j_char_counts) + j_char_counts.size * 1 / 2)\n",
    "s_char_log_probs = np.log(s_char_counts + 1 / 2) - np.log(np.sum(s_char_counts) + s_char_counts.size * 1 / 2)\n",
    "\n",
    "np.set_printoptions(suppress=True)\n",
    "print(f\"Class conditional probability for English:\\n{e_char_probs}\\n\")"
   ]
  },
  {
   "cell_type": "code",
   "execution_count": 405,
   "id": "303df805-2e2e-4573-b9f4-60dc6db9fcde",
   "metadata": {},
   "outputs": [
    {
     "name": "stdout",
     "output_type": "stream",
     "text": [
      "Class conditional probability for Japanese:\n",
      "[0.12157065 0.01002611 0.00506141 0.01589348 0.0555466  0.00357845\n",
      " 0.01292756 0.02930462 0.08952577 0.00215997 0.05296754 0.00132177\n",
      " 0.03671943 0.05232277 0.08410974 0.00080596 0.00009671 0.03949192\n",
      " 0.03891163 0.05258068 0.06515362 0.00022567 0.01821464 0.00003224\n",
      " 0.01305651 0.00712467 0.19126987]\n",
      "\n",
      "Class conditional probability for Spanish:\n",
      "[0.10267357 0.00808429 0.03684864 0.03902867 0.11175705 0.00844763\n",
      " 0.00705483 0.0044509  0.04895994 0.00650983 0.0002725  0.05198777\n",
      " 0.0253429  0.0531989  0.07118418 0.02382899 0.00753929 0.05822509\n",
      " 0.06458352 0.03497139 0.03309414 0.00578315 0.00009083 0.00245254\n",
      " 0.00772096 0.00263421 0.18327429]\n",
      "\n"
     ]
    }
   ],
   "source": [
    "# Question 3 Part 3\n",
    "\n",
    "print(f\"Class conditional probability for Japanese:\\n{j_char_probs}\\n\")\n",
    "print(f\"Class conditional probability for Spanish:\\n{s_char_probs}\\n\")"
   ]
  },
  {
   "cell_type": "code",
   "execution_count": 406,
   "id": "b10397bd-904e-40b7-99be-7fd69fe2b4ca",
   "metadata": {},
   "outputs": [
    {
     "name": "stdout",
     "output_type": "stream",
     "text": [
      "x = [164  32  53  57 311  55  51 140 140   3   6  85  64 139 182  53   3 141\n",
      " 186 225  65  31  47   4  38   2 520]\n"
     ]
    }
   ],
   "source": [
    "# Question 3 Part 4\n",
    "x_char_counts = get_char_counts(\"e10.txt\")\n",
    "print(f\"x = {x_char_counts}\")"
   ]
  },
  {
   "cell_type": "code",
   "execution_count": 407,
   "id": "a4fe351c-fce6-4df6-87ef-e3c2c7442853",
   "metadata": {},
   "outputs": [
    {
     "name": "stdout",
     "output_type": "stream",
     "text": [
      "p(x | y = e) = exp(-7879.501611616057)\n",
      "p(x | y = j) = exp(-8773.13628993369)\n",
      "p(x | y = s) = exp(-8503.525472750553)\n"
     ]
    }
   ],
   "source": [
    "# Question 3 Part 5\n",
    "\n",
    "log_likelihood_x_given_y_is_e = np.sum(x_char_counts * e_char_log_probs)\n",
    "log_likelihood_x_given_y_is_j = np.sum(x_char_counts * j_char_log_probs)\n",
    "log_likelihood_x_given_y_is_s = np.sum(x_char_counts * s_char_log_probs)\n",
    "\n",
    "print(f\"p(x | y = e) = exp({log_likelihood_x_given_y_is_e})\")\n",
    "print(f\"p(x | y = j) = exp({log_likelihood_x_given_y_is_j})\")\n",
    "print(f\"p(x | y = s) = exp({log_likelihood_x_given_y_is_s})\")"
   ]
  },
  {
   "cell_type": "code",
   "execution_count": 408,
   "id": "e5b859e4-8f6f-4acd-8cb4-d0cfeb6e9504",
   "metadata": {},
   "outputs": [
    {
     "name": "stdout",
     "output_type": "stream",
     "text": [
      "p(y = e | x) = exp(153.40803165613306)\n",
      "p(y = j | x) = exp(-740.2266466614992)\n",
      "p(y = s | x) = exp(-470.6158294783627)\n",
      "\n",
      "Predicted label for x is: e\n"
     ]
    }
   ],
   "source": [
    "# Question 3 Part 6\n",
    "\n",
    "total_char_counts = e_char_counts + j_char_counts + s_char_counts\n",
    "total_char_log_probs = np.log(total_char_counts + (1 / 2)) - np.log(np.sum(total_char_counts) + total_char_counts.size * (1 / 2))\n",
    "log_likelihood_x = np.sum(x_char_counts * total_char_log_probs)\n",
    "\n",
    "log_prob_y_is_e_given_x = log_prob_e + log_likelihood_x_given_y_is_e - log_likelihood_x\n",
    "log_prob_y_is_j_given_x = log_prob_j + log_likelihood_x_given_y_is_j - log_likelihood_x\n",
    "log_prob_y_is_s_given_x = log_prob_s + log_likelihood_x_given_y_is_s - log_likelihood_x\n",
    "\n",
    "print(f\"p(y = e | x) = exp({log_prob_y_is_e_given_x})\")\n",
    "print(f\"p(y = j | x) = exp({log_prob_y_is_j_given_x})\")\n",
    "print(f\"p(y = s | x) = exp({log_prob_y_is_s_given_x})\")\n",
    "\n",
    "if log_prob_y_is_e_given_x > log_prob_y_is_j_given_x:\n",
    "    if log_prob_y_is_e_given_x > log_prob_y_is_s_given_x:\n",
    "        predicted_label_for_x = 'e'\n",
    "    else:\n",
    "        predicted_label_for_x = 's'\n",
    "elif log_prob_y_is_j_given_x > log_prob_y_is_s_given_x:\n",
    "    predicted_label_for_x = 'j'\n",
    "else:\n",
    "    predicted_label_for_x = 's'\n",
    "\n",
    "print(f\"\\nPredicted label for x is: {predicted_label_for_x}\")"
   ]
  },
  {
   "cell_type": "code",
   "execution_count": 409,
   "id": "bf83a634-4396-4ff8-abd4-2ffd0148b63c",
   "metadata": {},
   "outputs": [
    {
     "name": "stdout",
     "output_type": "stream",
     "text": [
      "Confusion matrix:\n",
      "[[10  0  0]\n",
      " [ 0 10  0]\n",
      " [ 0  0 10]]\n"
     ]
    }
   ],
   "source": [
    "# Question 3 Part 7\n",
    "\n",
    "def predict_label_for_document(test_document_name):\n",
    "    doc_char_counts = get_char_counts(test_document_name)\n",
    "    log_likelihood_doc_given_y_is_e = np.sum(doc_char_counts * e_char_log_probs)\n",
    "    log_likelihood_doc_given_y_is_j = np.sum(doc_char_counts * j_char_log_probs)\n",
    "    log_likelihood_doc_given_y_is_s = np.sum(doc_char_counts * s_char_log_probs)\n",
    "    log_prob_y_is_e_given_doc = log_prob_e + log_likelihood_doc_given_y_is_e\n",
    "    log_prob_y_is_j_given_doc = log_prob_j + log_likelihood_doc_given_y_is_j\n",
    "    log_prob_y_is_s_given_doc = log_prob_s + log_likelihood_doc_given_y_is_s\n",
    "    if log_prob_y_is_e_given_doc > log_prob_y_is_j_given_doc:\n",
    "        if log_prob_y_is_e_given_doc > log_prob_y_is_s_given_doc:\n",
    "            predicted_label_for_doc = 'e'\n",
    "        else:\n",
    "            predicted_label_for_doc = 's'\n",
    "    elif log_prob_y_is_j_given_doc > log_prob_y_is_s_given_doc:\n",
    "        predicted_label_for_doc = 'j'\n",
    "    else:\n",
    "        predicted_label_for_doc = 's'\n",
    "    return predicted_label_for_doc\n",
    "\n",
    "pred_e_actual_e = 0\n",
    "pred_e_actual_j = 0\n",
    "pred_e_actual_s = 0\n",
    "pred_j_actual_e = 0\n",
    "pred_j_actual_j = 0\n",
    "pred_j_actual_s = 0\n",
    "pred_s_actual_e = 0\n",
    "pred_s_actual_j = 0\n",
    "pred_s_actual_s = 0\n",
    "\n",
    "list_of_test_document_names = [document_name for document_name in list_of_document_names if len(document_name) == 7]\n",
    "\n",
    "for test_document_name in list_of_test_document_names:\n",
    "    predicted_label = predict_label_for_document(test_document_name)\n",
    "    actual_label = test_document_name[0]\n",
    "    if predicted_label == 'e' and actual_label == 'e':\n",
    "        pred_e_actual_e += 1\n",
    "    elif predicted_label == 'e' and actual_label == 'j':\n",
    "        pred_e_actual_j += 1\n",
    "    elif predicted_label == 'e' and actual_label == 's':\n",
    "        pred_e_actual_s += 1\n",
    "    elif predicted_label == 'j' and actual_label == 'e':\n",
    "        pred_j_actual_e += 1\n",
    "    elif predicted_label == 'j' and actual_label == 'j':\n",
    "        pred_j_actual_j += 1\n",
    "    elif predicted_label == 'j' and actual_label == 's':\n",
    "        pred_j_actual_s += 1\n",
    "    elif predicted_label == 's' and actual_label == 'e':\n",
    "        pred_s_actual_e += 1\n",
    "    elif predicted_label == 's' and actual_label == 'j':\n",
    "        pred_s_actual_j += 1\n",
    "    elif predicted_label == 's' and actual_label == 's':\n",
    "        pred_s_actual_s += 1\n",
    "\n",
    "row_predicted_e = np.array([pred_e_actual_e, pred_e_actual_j, pred_e_actual_s])\n",
    "row_predicted_j = np.array([pred_j_actual_e, pred_j_actual_j, pred_j_actual_s])\n",
    "row_predicted_s = np.array([pred_s_actual_e, pred_s_actual_j, pred_s_actual_s])\n",
    "confusion_matrix = np.vstack((row_predicted_e, row_predicted_j, row_predicted_s))\n",
    "\n",
    "print(f\"Confusion matrix:\\n{confusion_matrix}\")"
   ]
  },
  {
   "cell_type": "code",
   "execution_count": 458,
   "id": "a835b7be-f568-4a20-b3d6-456e35902407",
   "metadata": {},
   "outputs": [],
   "source": [
    "# Question 4 Part 2\n",
    "\n",
    "# References:\n",
    "# 1. https://towardsdatascience.com/derivative-of-the-softmax-function-and-the-categorical-cross-entropy-loss-ffceefc081d1\n",
    "# 2. https://github.com/mnielsen/neural-networks-and-deep-learning/blob/master/src/network.py\n",
    "\n",
    "# Defining some helper functions\n",
    "\n",
    "def sigmoid(x):\n",
    "    return 1 / (1 + np.exp(-x))\n",
    "\n",
    "def sigmoid_dash(x):\n",
    "    sigmoid_dash = sigmoid(x) * (1 - sigmoid(x))\n",
    "    return sigmoid_dash\n",
    "\n",
    "def get_softmax(x):\n",
    "    exp_x_vector = np.exp(x)\n",
    "    normalized_exp_x_vector = exp_x_vector / sum(exp_x_vector)\n",
    "    return normalized_exp_x_vector"
   ]
  },
  {
   "cell_type": "code",
   "execution_count": 459,
   "id": "c6ae9cf8-c210-4451-8594-367596c0f084",
   "metadata": {},
   "outputs": [],
   "source": [
    "def calculate_network_output(x, W1, W2):\n",
    "    x = x.flatten()\n",
    "    u = np.dot(W1, x)\n",
    "    v = sigmoid(u)\n",
    "    z = np.dot(W2, v)\n",
    "    y_hat = get_softmax(z)\n",
    "    return y_hat"
   ]
  },
  {
   "cell_type": "code",
   "execution_count": 460,
   "id": "a14d7ca1-4eae-44e7-9e03-6fd2a2e7c206",
   "metadata": {},
   "outputs": [],
   "source": [
    "def calculate_cross_entropy_loss(y, y_hat):\n",
    "    y_one_hot_vector = np.zeros(10)\n",
    "    y_one_hot_vector[y] = 1\n",
    "    return -np.dot(y_one_hot_vector, np.log(y_hat))"
   ]
  },
  {
   "cell_type": "code",
   "execution_count": 461,
   "id": "8a8daf5e-cfc3-45f9-bf54-309735fd3f6d",
   "metadata": {},
   "outputs": [],
   "source": [
    "def get_new_weights_backprop(learning_rate, y, y_hat, W1, W2, x):\n",
    "    x = x.flatten()\n",
    "    u = np.dot(W1, x)\n",
    "    v = sigmoid(u)\n",
    "    z = np.dot(W2, v)\n",
    "    new_W2 = np.zeros(W2.shape)\n",
    "    new_W1 = np.zeros(W1.shape)\n",
    "    \n",
    "    for i in range(v.shape[0]):\n",
    "        new_W2[:, i] = W2[:, i] - (learning_rate * np.dot((y_hat - y), v[i]))\n",
    "    for i in range(x.shape[0]):\n",
    "        new_W1[:, i] = W1[:, i] - (learning_rate * np.dot(np.dot(np.dot(np.dot((y_hat - y), W2), (v)), (1 - v)), (x[i])))\n",
    "    return W1, W2"
   ]
  },
  {
   "cell_type": "code",
   "execution_count": 462,
   "id": "5cf5e12a-536f-4301-aaf2-046055191277",
   "metadata": {},
   "outputs": [],
   "source": [
    "from torchvision import datasets, transforms\n",
    "from torch.utils.data import DataLoader\n",
    "\n",
    "# References:\n",
    "# 1. https://www.datascienceweekly.org/tutorials/pytorch-mnist-load-mnist-dataset-from-pytorch-torchvision\n",
    "# 2. https://stackoverflow.com/questions/54897646/pytorch-datasets-converting-entire-dataset-to-numpy\n",
    "# 3. https://stackoverflow.com/questions/63746182/correct-way-of-normalizing-and-scaling-the-mnist-dataset\n",
    "# 4. https://numpy.org/doc/stable/reference/generated/numpy.squeeze.html\n",
    "\n",
    "transform = transforms.Compose([transforms.ToTensor(), transforms.Normalize((0.1307,), (0.3081,))])\n",
    "\n",
    "train_set = datasets.MNIST(root = './data', train = True, download = True, transform = transform)\n",
    "test_set = datasets.MNIST(root = './data', train = False, download = True, transform = transform)\n",
    "\n",
    "train_loader = DataLoader(train_set, batch_size = 1)\n",
    "test_loader = DataLoader(test_set, batch_size = 1)"
   ]
  },
  {
   "cell_type": "code",
   "execution_count": 465,
   "id": "9fa5abd4-d58a-49d8-bcdd-96aefa4707ec",
   "metadata": {},
   "outputs": [
    {
     "name": "stdout",
     "output_type": "stream",
     "text": [
      "Reached count 0\n",
      "Reached count 1000\n",
      "Reached count 2000\n",
      "Reached count 3000\n",
      "Reached count 4000\n",
      "Reached count 5000\n",
      "Reached count 6000\n",
      "Reached count 7000\n",
      "Reached count 8000\n",
      "Reached count 9000\n",
      "Reached count 10000\n",
      "Reached count 11000\n",
      "Reached count 12000\n",
      "Reached count 13000\n",
      "Reached count 14000\n",
      "Reached count 15000\n",
      "Reached count 16000\n",
      "Reached count 17000\n",
      "Reached count 18000\n",
      "Reached count 19000\n",
      "Reached count 20000\n",
      "Reached count 21000\n",
      "Reached count 22000\n",
      "Reached count 23000\n",
      "Reached count 24000\n",
      "Reached count 25000\n",
      "Reached count 26000\n",
      "Reached count 27000\n",
      "Reached count 28000\n",
      "Reached count 29000\n",
      "Reached count 30000\n",
      "Reached count 31000\n",
      "Reached count 32000\n",
      "Reached count 33000\n",
      "Reached count 34000\n",
      "Reached count 35000\n",
      "Reached count 36000\n",
      "Reached count 37000\n",
      "Reached count 38000\n",
      "Reached count 39000\n",
      "Reached count 40000\n",
      "Reached count 41000\n",
      "Reached count 42000\n",
      "Reached count 43000\n",
      "Reached count 44000\n",
      "Reached count 45000\n",
      "Reached count 46000\n",
      "Reached count 47000\n",
      "Reached count 48000\n",
      "Reached count 49000\n",
      "Reached count 50000\n",
      "Reached count 51000\n",
      "Reached count 52000\n",
      "Reached count 53000\n",
      "Reached count 54000\n",
      "Reached count 55000\n",
      "Reached count 56000\n",
      "Reached count 57000\n",
      "Reached count 58000\n",
      "Reached count 59000\n",
      "Loss = 3.4324845277583815%\n"
     ]
    }
   ],
   "source": [
    "d = 784 # number of pixels\n",
    "d1 = 8 # 8 nodes in hidden layer\n",
    "k = 10 # 10 class labels\n",
    "W1 = np.random.randn(d1, d) # Weight matrix W1\n",
    "W2 = np.random.randn(k, d1) # Weight matrix W2\n",
    "\n",
    "learning_rate = 0.1\n",
    "\n",
    "for epoch in range(1):\n",
    "    running_loss = 0.0\n",
    "    count = 0\n",
    "    for data in train_loader:\n",
    "        if count % 1000 == 0:\n",
    "            print(f\"Reached count {count}\")\n",
    "        count += 1\n",
    "        train_set_features, train_set_labels = data\n",
    "        train_set_features = train_set_features.numpy().squeeze()\n",
    "        train_set_labels = train_set_labels.numpy()\n",
    "        # print(train_set_features.shape)\n",
    "        # print(train_set_labels.shape)\n",
    "        y_hat = calculate_network_output(train_set_features, W1, W2)\n",
    "        running_loss += calculate_cross_entropy_loss(train_set_labels, y_hat)\n",
    "        W1, W2 = get_new_weights_backprop(learning_rate, train_set_labels, y_hat, W1, W2, train_set_features)\n",
    "    print(f\"Loss = {running_loss / len(train_loader)}%\")"
   ]
  },
  {
   "cell_type": "code",
   "execution_count": 470,
   "id": "e60fe106-9df0-4e89-9c6b-1640f60c1c30",
   "metadata": {},
   "outputs": [
    {
     "name": "stdout",
     "output_type": "stream",
     "text": [
      "Test error is 2.4758644415054065%\n"
     ]
    }
   ],
   "source": [
    "running_loss = 0.0\n",
    "with torch.no_grad():\n",
    "    for data in test_loader:\n",
    "        test_set_features, test_set_labels = data\n",
    "        test_set_features = test_set_features.numpy()\n",
    "        test_set_labels = test_set_labels.numpy()\n",
    "        predicted_labels = calculate_network_output(train_set_features, W1, W2)\n",
    "        running_loss += calculate_cross_entropy_loss(train_set_labels, y_hat)\n",
    "\n",
    "print(f\"Test error is {running_loss / len(test_loader)}%\")"
   ]
  },
  {
   "cell_type": "code",
   "execution_count": 446,
   "id": "7fe6e7a5-ad2a-453b-b1d6-8ea95276a864",
   "metadata": {},
   "outputs": [],
   "source": [
    "# Question 4 Part 3\n",
    "\n",
    "# 1. https://machinelearningmastery.com/develop-your-first-neural-network-with-pytorch-step-by-step/\n",
    "# 2. https://pytorch.org/docs/stable/generated/torch.nn.Softmax.html\n",
    "# 3. https://pytorch.org/tutorials/beginner/blitz/cifar10_tutorial.html#sphx-glr-beginner-blitz-cifar10-tutorial-py\n",
    "\n",
    "import torch\n",
    "import torch.nn as nn\n",
    "import torch.optim as optim\n",
    "import torchvision\n",
    "import torchvision.transforms as transforms\n",
    "import matplotlib.pyplot as plt\n",
    "\n",
    "class Net(nn.Module):\n",
    "    def __init__(self):\n",
    "        super(Net, self).__init__()\n",
    "        self.hidden_layer = nn.Linear(784, 32)\n",
    "        self.sigmoid_activation = nn.Sigmoid()\n",
    "        self.output_layer = nn.Linear(32, 10)\n",
    "\n",
    "    def forward(self, x):\n",
    "        x = torch.flatten(x, 1)\n",
    "        x = self.hidden_layer(x)\n",
    "        x = self.sigmoid_activation(x)\n",
    "        x = self.output_layer(x)\n",
    "        return x\n",
    "\n",
    "def initialize_weights(net, initialize_with_zero):\n",
    "    if initialize_with_zero:\n",
    "        for module in net.modules():\n",
    "            if isinstance(module, nn.Linear):\n",
    "                module.weight.data.fill_(0)\n",
    "                module.bias.data.fill_(0)\n",
    "    else:\n",
    "        for module in net.modules():\n",
    "            if isinstance(module, nn.Linear):\n",
    "                module.weight.data.uniform_(-1, 1)\n",
    "                module.bias.data.fill_(0)\n",
    "\n",
    "net = Net()\n",
    "initialize_weights(net, True)\n",
    "criterion = nn.CrossEntropyLoss()\n",
    "optimizer = optim.SGD(net.parameters(), lr=0.01)"
   ]
  },
  {
   "cell_type": "code",
   "execution_count": 447,
   "id": "23aa5753-b042-4a39-8685-9f1070049177",
   "metadata": {},
   "outputs": [],
   "source": [
    "transform = transforms.Compose([transforms.ToTensor(), transforms.Normalize((0.1307,), (0.3081,))])\n",
    "train_set = torchvision.datasets.MNIST(root='./data', train=True, download=True, transform=transform)\n",
    "test_set = torchvision.datasets.MNIST(root='./data', train=False, download=True, transform=transform)\n",
    "train_loader = torch.utils.data.DataLoader(train_set, batch_size=32, shuffle=True)\n",
    "test_loader = torch.utils.data.DataLoader(test_set, batch_size=32, shuffle=False)"
   ]
  },
  {
   "cell_type": "code",
   "execution_count": 448,
   "id": "7d9caf4c-2835-4b93-b172-01e61fac5f58",
   "metadata": {},
   "outputs": [
    {
     "name": "stdout",
     "output_type": "stream",
     "text": [
      "For epoch 0, loss is 2.2358233627319337\n",
      "For epoch 1, loss is 2.0052879695892334\n",
      "For epoch 2, loss is 1.8990238910675048\n",
      "For epoch 3, loss is 1.831676502418518\n",
      "For epoch 4, loss is 1.7839749025980631\n",
      "For epoch 5, loss is 1.7508244382222493\n",
      "For epoch 6, loss is 1.726817462348938\n",
      "For epoch 7, loss is 1.7081840113957723\n",
      "For epoch 8, loss is 1.6930868416468303\n",
      "For epoch 9, loss is 1.6804934991200764\n"
     ]
    }
   ],
   "source": [
    "loss_in_epochs = []\n",
    "for epoch in range(10):\n",
    "    running_loss = 0.0\n",
    "    for i, train_data in enumerate(train_loader, 0):\n",
    "        train_set_inputs, train_set_labels = train_data\n",
    "        # train_set_inputs = train_set_inputs.view(train_set_inputs.size(0), -1)\n",
    "        network_outputs = net(train_set_inputs)\n",
    "        loss = criterion(network_outputs, train_set_labels)\n",
    "        optimizer.zero_grad()\n",
    "        loss.backward()\n",
    "        optimizer.step()\n",
    "        running_loss += loss.item()\n",
    "    loss_in_epochs.append(running_loss / len(train_loader))\n",
    "    print(f\"For epoch {epoch}, loss is {running_loss / len(train_loader)}\")"
   ]
  },
  {
   "cell_type": "code",
   "execution_count": 449,
   "id": "6d0fa3af-a296-4843-b506-220674592c71",
   "metadata": {},
   "outputs": [
    {
     "name": "stdout",
     "output_type": "stream",
     "text": [
      "Test error is 68.25%\n"
     ]
    }
   ],
   "source": [
    "num_correct_predictions = 0\n",
    "total_observations = 0\n",
    "with torch.no_grad():\n",
    "    for data in test_loader:\n",
    "        test_set_inputs, test_set_labels = data\n",
    "        # test_set_inputs = test_set_inputs.view(test_set_inputs.size(0), -1)\n",
    "        network_outputs = net(test_set_inputs)\n",
    "        _, predicted_labels = torch.max(network_outputs.data, 1)\n",
    "        total_observations += test_set_labels.size(0)\n",
    "        num_correct_predictions += (predicted_labels == test_set_labels).sum().item()\n",
    "\n",
    "print(f\"Test error is {100 - num_correct_predictions * 100 / total_observations}%\")"
   ]
  },
  {
   "cell_type": "code",
   "execution_count": 450,
   "id": "65e04b0a-8b48-4c90-b190-57184cbc1a8e",
   "metadata": {},
   "outputs": [
    {
     "data": {
      "image/png": "[encoded data removed]",
      "text/plain": [
       "<Figure size 640x480 with 1 Axes>"
      ]
     },
     "metadata": {},
     "output_type": "display_data"
    }
   ],
   "source": [
    "plt.plot(loss_in_epochs)\n",
    "plt.xlabel(\"Epoch\")\n",
    "plt.ylabel(\"Loss\")\n",
    "plt.show()"
   ]
  },
  {
   "cell_type": "code",
   "execution_count": 452,
   "id": "102c6785-9182-492d-a7b7-eec70553682d",
   "metadata": {},
   "outputs": [
    {
     "name": "stdout",
     "output_type": "stream",
     "text": [
      "For epoch 0, loss is 1.9661229773521423\n",
      "For epoch 1, loss is 1.1114185318946839\n",
      "For epoch 2, loss is 0.8796265615463257\n",
      "For epoch 3, loss is 0.7633783778826395\n",
      "For epoch 4, loss is 0.6903619890848796\n",
      "For epoch 5, loss is 0.6384810035943985\n",
      "For epoch 6, loss is 0.5991511084318161\n",
      "For epoch 7, loss is 0.5679461536645889\n",
      "For epoch 8, loss is 0.5421305224498113\n",
      "For epoch 9, loss is 0.5203679220994314\n",
      "Test error is is 15.079999999999998%\n"
     ]
    },
    {
     "data": {
      "image/png": "[encoded data removed]",
      "text/plain": [
       "<Figure size 640x480 with 1 Axes>"
      ]
     },
     "metadata": {},
     "output_type": "display_data"
    }
   ],
   "source": [
    "# Question 4 Part 4\n",
    "\n",
    "net = Net()\n",
    "initialize_weights(net, False)\n",
    "criterion = nn.CrossEntropyLoss()\n",
    "optimizer = optim.SGD(net.parameters(), lr=0.01)\n",
    "\n",
    "loss_in_epochs = []\n",
    "for epoch in range(10):\n",
    "    running_loss = 0.0\n",
    "    for i, train_data in enumerate(train_loader, 0):\n",
    "        train_set_inputs, train_set_labels = train_data\n",
    "        # train_set_inputs = train_set_inputs.view(train_set_inputs.size(0), -1)\n",
    "        network_outputs = net(train_set_inputs)\n",
    "        loss = criterion(network_outputs, train_set_labels)\n",
    "        optimizer.zero_grad()\n",
    "        loss.backward()\n",
    "        optimizer.step()\n",
    "        running_loss += loss.item()\n",
    "    loss_in_epochs.append(running_loss / len(train_loader))\n",
    "    print(f\"For epoch {epoch}, loss is {running_loss / len(train_loader)}\")\n",
    "\n",
    "num_correct_predictions = 0\n",
    "total_observations = 0\n",
    "with torch.no_grad():\n",
    "    for data in test_loader:\n",
    "        test_set_inputs, test_set_labels = data\n",
    "        # test_set_inputs = test_set_inputs.view(test_set_inputs.size(0), -1)\n",
    "        network_outputs = net(test_set_inputs)\n",
    "        _, predicted_labels = torch.max(network_outputs.data, 1)\n",
    "        total_observations += test_set_labels.size(0)\n",
    "        num_correct_predictions += (predicted_labels == test_set_labels).sum().item()\n",
    "\n",
    "print(f\"Test error is is {100 - num_correct_predictions * 100 / total_observations}%\")\n",
    "\n",
    "plt.plot(loss_in_epochs)\n",
    "plt.xlabel(\"Epoch\")\n",
    "plt.ylabel(\"Loss\")\n",
    "plt.show()"
   ]
  }
 ],
 "metadata": {
  "kernelspec": {
   "display_name": "Python 3 (ipykernel)",
   "language": "python",
   "name": "python3"
  },
  "language_info": {
   "codemirror_mode": {
    "name": "ipython",
    "version": 3
   },
   "file_extension": ".py",
   "mimetype": "text/x-python",
   "name": "python",
   "nbconvert_exporter": "python",
   "pygments_lexer": "ipython3",
   "version": "3.9.6"
  }
 },
 "nbformat": 4,
 "nbformat_minor": 5
}
